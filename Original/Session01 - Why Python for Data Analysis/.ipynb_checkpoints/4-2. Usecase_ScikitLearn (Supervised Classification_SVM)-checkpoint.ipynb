{
 "cells": [
  {
   "cell_type": "markdown",
   "metadata": {},
   "source": [
    "### 4. Scikit-learn"
   ]
  },
  {
   "cell_type": "markdown",
   "metadata": {},
   "source": [
    "### 4-3. Support Vector Machine"
   ]
  },
  {
   "cell_type": "code",
   "execution_count": 22,
   "metadata": {},
   "outputs": [
    {
     "name": "stdout",
     "output_type": "stream",
     "text": [
      "   height  weight   label\n",
      "0     140      45  normal\n",
      "1     145      72     fat\n",
      "2     150      61     fat\n",
      "3     137      56     fat\n",
      "4     192      48    thin\n",
      "   height  weight\n",
      "0   0.700    0.45\n",
      "1   0.725    0.72\n",
      "2   0.750    0.61\n",
      "3   0.685    0.56\n",
      "4   0.960    0.48\n",
      "20000\n",
      "14000\n",
      "6000\n",
      "6000\n",
      "6000\n",
      "   height  weight label     0\n",
      "0   0.685    0.66   fat   fat\n",
      "1   0.760    0.42  thin  thin\n",
      "2   0.920    0.36  thin  thin\n",
      "3   0.645    0.67   fat   fat\n",
      "4   0.605    0.66   fat   fat\n",
      "정답률 = 0.9845\n",
      "리포트 =\n",
      "              precision    recall  f1-score   support\n",
      "\n",
      "        fat       1.00      0.99      0.99      2360\n",
      "     normal       0.95      1.00      0.97      1728\n",
      "       thin       1.00      0.97      0.98      1912\n",
      "\n",
      "avg / total       0.99      0.98      0.98      6000\n",
      "\n"
     ]
    }
   ],
   "source": [
    "from sklearn import svm, metrics\n",
    "from sklearn.model_selection import train_test_split\n",
    "import matplotlib.pyplot as plt\n",
    "import pandas as pd\n",
    "\n",
    "#  고객데이터 불러오기 --- (※1)\n",
    "tbl = pd.read_csv(\"../dataset/bmi.csv\")\n",
    "print(tbl.head())\n",
    "\n",
    "# 칼럼(열)을 자르고 정규화하기 --- (※2)\n",
    "label = tbl[\"label\"]\n",
    "height = tbl[\"height\"] / 200 \n",
    "weight = tbl[\"weight\"] / 100\n",
    "features = pd.concat([height, weight], axis=1)\n",
    "print(features.head())\n",
    "\n",
    "# 학습 전용 데이터와 테스트 전용 데이터로 나누기 --- (※3)\n",
    "data_train, data_test, label_train, label_test = train_test_split(features, label, test_size = 0.3)\n",
    "\n",
    "print(len(features))\n",
    "print(len(data_train))\n",
    "print(len(data_test))\n",
    "\n",
    "# 데이터 학습하기 --- (※4)\n",
    "model = svm.SVC()\n",
    "model.fit(data_train, label_train)\n",
    "\n",
    "# 데이터 예측하기 --- (※5)\n",
    "predict = pd.DataFrame(model.predict(data_test))\n",
    "print(predict.size)\n",
    "predict.head()\n",
    "\n",
    "r = pd.concat([data_test.reset_index(drop=True), label_test.reset_index(drop=True), predict.reset_index(drop=True)], axis = 1)\n",
    "r.to_csv(\"d:/result_bmi.csv\")\n",
    "print(len(r))\n",
    "print(r.head())\n",
    "# 결과 테스트하기 --- (※6)\n",
    "ac_score = metrics.accuracy_score(label_test, predict)\n",
    "cl_report = metrics.classification_report(label_test, predict)\n",
    "\n",
    "print(\"정답률 =\", ac_score)\n",
    "print(\"리포트 =\\n\", cl_report)"
   ]
  },
  {
   "cell_type": "code",
   "execution_count": 23,
   "metadata": {},
   "outputs": [
    {
     "data": {
      "text/plain": [
       "'             precision    recall  f1-score   support\\n\\n        fat       1.00      0.99      0.99      2360\\n     normal       0.95      1.00      0.97      1728\\n       thin       1.00      0.97      0.98      1912\\n\\navg / total       0.99      0.98      0.98      6000\\n'"
      ]
     },
     "execution_count": 23,
     "metadata": {},
     "output_type": "execute_result"
    }
   ],
   "source": [
    "cl_report"
   ]
  },
  {
   "cell_type": "markdown",
   "metadata": {},
   "source": [
    "# 실습 customer.csv 파일을 활용하여 예측 및 결과리포트를 작성하세요"
   ]
  },
  {
   "cell_type": "code",
   "execution_count": 20,
   "metadata": {
    "scrolled": false
   },
   "outputs": [
    {
     "name": "stdout",
     "output_type": "stream",
     "text": [
      "      deposit     stock    label\n",
      "0  1400000000  45000000   normal\n",
      "1  1450000000  72000000  diamond\n",
      "2  1500000000  61000000  diamond\n",
      "3  1370000000  56000000   normal\n",
      "4  1920000000  48000000  diamond\n",
      "      deposit     stock\n",
      "0  1400000000  45000000\n",
      "1  1450000000  72000000\n",
      "2  1500000000  61000000\n",
      "3  1370000000  56000000\n",
      "4  1920000000  48000000\n",
      "20000\n",
      "14000\n",
      "6000\n",
      "6000\n",
      "6000\n",
      "      deposit     stock    label        0\n",
      "0  1530000000  68000000  diamond  diamond\n",
      "1  1200000000  41000000   normal   normal\n",
      "2  1650000000  76000000  diamond  diamond\n",
      "3  1910000000  65000000      vip      vip\n",
      "4  1760000000  65000000  diamond  diamond\n",
      "정답률 = 0.9866666666666667\n",
      "리포트 =\n",
      "              precision    recall  f1-score   support\n",
      "\n",
      "    diamond       0.98      1.00      0.99      3508\n",
      "     normal       1.00      0.97      0.98      1756\n",
      "        vip       1.00      0.97      0.99       736\n",
      "\n",
      "avg / total       0.99      0.99      0.99      6000\n",
      "\n"
     ]
    }
   ],
   "source": [
    "from sklearn import svm, metrics\n",
    "from sklearn.model_selection import train_test_split\n",
    "import matplotlib.pyplot as plt\n",
    "import pandas as pd\n",
    "\n",
    "#  고객데이터 불러오기 --- (※1)\n",
    "tbl = pd.read_csv(\"../dataset/customer.csv\")\n",
    "print(tbl.head())\n",
    "\n",
    "# 칼럼(열)을 자르고 정규화하기 --- (※2)\n",
    "label = tbl[\"label\"]\n",
    "deposit = tbl[\"deposit\"] \n",
    "stock = tbl[\"stock\"]  \n",
    "features = pd.concat([deposit, stock], axis=1)\n",
    "print(features.head())\n",
    "\n",
    "# 학습 전용 데이터와 테스트 전용 데이터로 나누기 --- (※3)\n",
    "data_train, data_test, label_train, label_test = train_test_split(features, label, test_size = 0.3)\n",
    "\n",
    "print(len(features))\n",
    "print(len(data_train))\n",
    "print(len(data_test))\n",
    "\n",
    "# 데이터 학습하기 --- (※4)\n",
    "model = svm.SVC()\n",
    "model.fit(data_train, label_train)\n",
    "\n",
    "# 데이터 예측하기 --- (※5)\n",
    "predict = pd.DataFrame(model.predict(data_test))\n",
    "print(predict.size)\n",
    "predict.head()\n",
    "\n",
    "r = pd.concat([data_test.reset_index(drop=True), label_test.reset_index(drop=True), predict.reset_index(drop=True)], axis = 1)\n",
    "r.to_csv(\"d:/result_customer.csv\")\n",
    "print(len(r))\n",
    "print(r.head())\n",
    "# 결과 테스트하기 --- (※6)\n",
    "ac_score = metrics.accuracy_score(label_test, predict)\n",
    "cl_report = metrics.classification_report(label_test, predict)\n",
    "\n",
    "print(\"정답률 =\", ac_score)\n",
    "print(\"리포트 =\\n\", cl_report)"
   ]
  },
  {
   "cell_type": "code",
   "execution_count": 21,
   "metadata": {},
   "outputs": [
    {
     "data": {
      "text/plain": [
       "'             precision    recall  f1-score   support\\n\\n    diamond       0.98      1.00      0.99      3508\\n     normal       1.00      0.97      0.98      1756\\n        vip       1.00      0.97      0.99       736\\n\\navg / total       0.99      0.99      0.99      6000\\n'"
      ]
     },
     "execution_count": 21,
     "metadata": {},
     "output_type": "execute_result"
    }
   ],
   "source": [
    "cl_report"
   ]
  }
 ],
 "metadata": {
  "kernelspec": {
   "display_name": "Python 3",
   "language": "python",
   "name": "python3"
  },
  "language_info": {
   "codemirror_mode": {
    "name": "ipython",
    "version": 3
   },
   "file_extension": ".py",
   "mimetype": "text/x-python",
   "name": "python",
   "nbconvert_exporter": "python",
   "pygments_lexer": "ipython3",
   "version": "3.6.3"
  }
 },
 "nbformat": 4,
 "nbformat_minor": 2
}
