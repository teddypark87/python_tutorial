{
 "cells": [
  {
   "cell_type": "markdown",
   "metadata": {},
   "source": [
    "### 4. Scikit-learn"
   ]
  },
  {
   "cell_type": "markdown",
   "metadata": {},
   "source": [
    "### 4-3. K-Means Clustering"
   ]
  },
  {
   "cell_type": "code",
   "execution_count": 2,
   "metadata": {
    "scrolled": true
   },
   "outputs": [
    {
     "name": "stdout",
     "output_type": "stream",
     "text": [
      "name type\n",
      "<class 'pandas.core.frame.DataFrame'>\n",
      "features type\n",
      "<class 'pandas.core.frame.DataFrame'>\n",
      "      NAME   SW   DB  AND  PREDICT\n",
      "0   ST0001   95   30    0        1\n",
      "1   ST0002   50   50    0        1\n",
      "2   ST0003   15   30   15        1\n",
      "3   ST0004   90   50   20        1\n",
      "4   ST0005   75   20   20        1\n",
      "5   ST0006  100   80   30        0\n",
      "6   ST0007   15   10   30        1\n",
      "7   ST0008  100  100   33        0\n",
      "8   ST0009   65   60   35        1\n",
      "9   ST0010   90   20   38        1\n",
      "10  ST0011  100   70   43        0\n",
      "11  ST0012   90   45   45        1\n",
      "12  ST0013   90   60   47        1\n",
      "13  ST0014  100  100   48        0\n",
      "14  ST0015   75   80   49        0\n",
      "15  ST0016   90  100   50        0\n",
      "16  ST0017  100   30   50        1\n",
      "17  ST0018  100  100   58        0\n",
      "18  ST0019  100  100   60        0\n",
      "19  ST0020   90   80   69        0\n",
      "20  ST0021  100  100   75        0\n",
      "21  ST0022  100  100   95        0\n",
      "22  ST0023  100  100   96        0\n",
      "23  ST0024  100  100  100        0\n",
      "24  ST0025   90  100  100        0\n",
      "25  ST0026  100  100  100        0\n"
     ]
    },
    {
     "data": {
      "text/plain": [
       "<matplotlib.collections.PathCollection at 0x2356ca49f60>"
      ]
     },
     "execution_count": 2,
     "metadata": {},
     "output_type": "execute_result"
    },
    {
     "data": {
      "image/png": "[encoded data removed]",
      "text/plain": [
       "<matplotlib.figure.Figure at 0x2356cb7e470>"
      ]
     },
     "metadata": {},
     "output_type": "display_data"
    }
   ],
   "source": [
    "import pandas as pd\n",
    "from sklearn.cluster import KMeans\n",
    "import matplotlib.pyplot as plt\n",
    "\n",
    "# Only needed if you want to display your plots inline if using Notebook\n",
    "# change inline to auto if you have Spyder installed\n",
    "%matplotlib inline\n",
    "\n",
    "#CSV 파일을 읽어 DataFrame 변수에 저장하기\n",
    "studentData = pd.read_csv(\"../dataset/student_middle.csv\")\n",
    "\n",
    "#<class 'pandas.core.frame.DataFrame'>\n",
    "name = studentData[[\"NAME\"]]\n",
    "print(\"name type\")\n",
    "print(type(name))\n",
    "\n",
    "#<class 'pandas.core.frame.DataFrame'>\n",
    "features = studentData[[\"SW\",\"DB\",\"AND\"]]\n",
    "print(\"features type\")\n",
    "print(type(features))\n",
    "\n",
    "#Create model and prediction\n",
    "model = KMeans(n_clusters=2, algorithm=\"auto\")\n",
    "model.fit(features)\n",
    "predict = pd.DataFrame(model.predict(features))\n",
    "predict.columns=[\"PREDICT\"]\n",
    "\n",
    "#cncatenate labels to df as a new column / column binding\n",
    "r = pd.concat([name, features, predict], axis = 1)\n",
    "print(r)\n",
    "\n",
    "plt.scatter(r['DB'],r[\"AND\"], c=r[\"PREDICT\"], alpha=0.7)"
   ]
  },
  {
   "cell_type": "code",
   "execution_count": 5,
   "metadata": {},
   "outputs": [
    {
     "data": {
      "text/html": [
       "<div>\n",
       "<style scoped>\n",
       "    .dataframe tbody tr th:only-of-type {\n",
       "        vertical-align: middle;\n",
       "    }\n",
       "\n",
       "    .dataframe tbody tr th {\n",
       "        vertical-align: top;\n",
       "    }\n",
       "\n",
       "    .dataframe thead th {\n",
       "        text-align: right;\n",
       "    }\n",
       "</style>\n",
       "<table border=\"1\" class=\"dataframe\">\n",
       "  <thead>\n",
       "    <tr style=\"text-align: right;\">\n",
       "      <th></th>\n",
       "      <th>CUSTID</th>\n",
       "      <th>AVERAGEPRICE</th>\n",
       "      <th>EMI</th>\n",
       "      <th>DEVICECOUNT</th>\n",
       "      <th>PRODUCTAGE</th>\n",
       "      <th>CUSTTYPE</th>\n",
       "    </tr>\n",
       "  </thead>\n",
       "  <tbody>\n",
       "    <tr>\n",
       "      <th>0</th>\n",
       "      <td>A13566</td>\n",
       "      <td>4273.90000</td>\n",
       "      <td>3</td>\n",
       "      <td>6.4</td>\n",
       "      <td>1.679181</td>\n",
       "      <td>Big-Screen-lover</td>\n",
       "    </tr>\n",
       "    <tr>\n",
       "      <th>1</th>\n",
       "      <td>A14219</td>\n",
       "      <td>3642.44195</td>\n",
       "      <td>2</td>\n",
       "      <td>4.0</td>\n",
       "      <td>2.682023</td>\n",
       "      <td>Sleeping-dog</td>\n",
       "    </tr>\n",
       "  </tbody>\n",
       "</table>\n",
       "</div>"
      ],
      "text/plain": [
       "   CUSTID  AVERAGEPRICE  EMI  DEVICECOUNT  PRODUCTAGE          CUSTTYPE\n",
       "0  A13566    4273.90000    3          6.4    1.679181  Big-Screen-lover\n",
       "1  A14219    3642.44195    2          4.0    2.682023      Sleeping-dog"
      ]
     },
     "execution_count": 5,
     "metadata": {},
     "output_type": "execute_result"
    }
   ],
   "source": [
    "import pandas as pd\n",
    "from sklearn.cluster import KMeans\n",
    "import matplotlib.pyplot as plt\n",
    "\n",
    "# Only needed if you want to display your plots inline if using Notebook\n",
    "# change inline to auto if you have Spyder installed\n",
    "%matplotlib inline\n",
    "\n",
    "#CSV 파일을 읽어 DataFrame 변수에 저장하기\n",
    "customerData = pd.read_csv(\"../dataset/customerdata.csv\")\n",
    "customerData.head(2)"
   ]
  },
  {
   "cell_type": "markdown",
   "metadata": {},
   "source": [
    "### 답지 분류"
   ]
  },
  {
   "cell_type": "code",
   "execution_count": 7,
   "metadata": {},
   "outputs": [
    {
     "data": {
      "text/html": [
       "<div>\n",
       "<style scoped>\n",
       "    .dataframe tbody tr th:only-of-type {\n",
       "        vertical-align: middle;\n",
       "    }\n",
       "\n",
       "    .dataframe tbody tr th {\n",
       "        vertical-align: top;\n",
       "    }\n",
       "\n",
       "    .dataframe thead th {\n",
       "        text-align: right;\n",
       "    }\n",
       "</style>\n",
       "<table border=\"1\" class=\"dataframe\">\n",
       "  <thead>\n",
       "    <tr style=\"text-align: right;\">\n",
       "      <th></th>\n",
       "      <th>CUSTTYPE</th>\n",
       "    </tr>\n",
       "  </thead>\n",
       "  <tbody>\n",
       "    <tr>\n",
       "      <th>0</th>\n",
       "      <td>Big-Screen-lover</td>\n",
       "    </tr>\n",
       "    <tr>\n",
       "      <th>1</th>\n",
       "      <td>Sleeping-dog</td>\n",
       "    </tr>\n",
       "  </tbody>\n",
       "</table>\n",
       "</div>"
      ],
      "text/plain": [
       "           CUSTTYPE\n",
       "0  Big-Screen-lover\n",
       "1      Sleeping-dog"
      ]
     },
     "execution_count": 7,
     "metadata": {},
     "output_type": "execute_result"
    }
   ],
   "source": [
    "#<class 'pandas.core.frame.DataFrame'>\n",
    "label = customerData[[\"CUSTTYPE\"]]\n",
    "label.head(2)"
   ]
  },
  {
   "cell_type": "markdown",
   "metadata": {},
   "source": [
    "### 특성 분류"
   ]
  },
  {
   "cell_type": "code",
   "execution_count": 9,
   "metadata": {},
   "outputs": [
    {
     "data": {
      "text/html": [
       "<div>\n",
       "<style scoped>\n",
       "    .dataframe tbody tr th:only-of-type {\n",
       "        vertical-align: middle;\n",
       "    }\n",
       "\n",
       "    .dataframe tbody tr th {\n",
       "        vertical-align: top;\n",
       "    }\n",
       "\n",
       "    .dataframe thead th {\n",
       "        text-align: right;\n",
       "    }\n",
       "</style>\n",
       "<table border=\"1\" class=\"dataframe\">\n",
       "  <thead>\n",
       "    <tr style=\"text-align: right;\">\n",
       "      <th></th>\n",
       "      <th>AVERAGEPRICE</th>\n",
       "      <th>PRODUCTAGE</th>\n",
       "    </tr>\n",
       "  </thead>\n",
       "  <tbody>\n",
       "    <tr>\n",
       "      <th>0</th>\n",
       "      <td>4273.90000</td>\n",
       "      <td>1.679181</td>\n",
       "    </tr>\n",
       "    <tr>\n",
       "      <th>1</th>\n",
       "      <td>3642.44195</td>\n",
       "      <td>2.682023</td>\n",
       "    </tr>\n",
       "  </tbody>\n",
       "</table>\n",
       "</div>"
      ],
      "text/plain": [
       "   AVERAGEPRICE  PRODUCTAGE\n",
       "0    4273.90000    1.679181\n",
       "1    3642.44195    2.682023"
      ]
     },
     "execution_count": 9,
     "metadata": {},
     "output_type": "execute_result"
    }
   ],
   "source": [
    "#<class 'pandas.core.frame.DataFrame'>\n",
    "features = customerData[[\"AVERAGEPRICE\",\"PRODUCTAGE\"]]\n",
    "features.head(2)"
   ]
  },
  {
   "cell_type": "markdown",
   "metadata": {},
   "source": [
    "### 모델 적용"
   ]
  },
  {
   "cell_type": "code",
   "execution_count": 12,
   "metadata": {
    "collapsed": true
   },
   "outputs": [],
   "source": [
    "#Create model and prediction\n",
    "model = KMeans(n_clusters=3, algorithm=\"auto\")\n",
    "model.fit(features)\n",
    "predict = pd.DataFrame(model.predict(features))\n",
    "predict.columns=[\"PREDICT\"]"
   ]
  },
  {
   "cell_type": "code",
   "execution_count": 14,
   "metadata": {},
   "outputs": [
    {
     "name": "stdout",
     "output_type": "stream",
     "text": [
      "             CUSTTYPE  AVERAGEPRICE  PRODUCTAGE  PREDICT\n",
      "0    Big-Screen-lover   4273.900000    1.679181        2\n",
      "1        Sleeping-dog   3642.441950    2.682023        2\n",
      "2        Sleeping-dog   3653.884565    3.208202        2\n",
      "3          Early-bird   3713.211107    0.900000        2\n",
      "4        Sleeping-dog   3391.074215    2.453656        0\n",
      "5        Sleeping-dog   3755.263391    2.786665        2\n",
      "6          Early-bird   3213.911446    0.900000        0\n",
      "7    Big-Screen-lover   3516.500000    2.564830        0\n",
      "8    Big-Screen-lover   3732.900000    2.069995        2\n",
      "9        Sleeping-dog   4020.173425    3.013440        2\n",
      "10       Sleeping-dog   4005.005142    3.113618        2\n",
      "11   Big-Screen-lover   3246.000000    1.891624        0\n",
      "12   Big-Screen-lover   3624.700000    2.137246        2\n",
      "13         Early-bird   2991.014703    0.800000        1\n",
      "14       Sleeping-dog   3227.855655    3.467370        0\n",
      "15   Big-Screen-lover   4165.700000    2.911016        2\n",
      "16       Sleeping-dog   4166.533130    2.577757        2\n",
      "17       Sleeping-dog   3383.145853    2.903990        0\n",
      "18   Big-Screen-lover   4165.700000    2.122257        2\n",
      "19   Big-Screen-lover   3516.500000    2.087540        0\n",
      "20       Sleeping-dog   3418.048887    2.771469        0\n",
      "21   Big-Screen-lover   3408.300000    1.988682        0\n",
      "22   Big-Screen-lover   3408.300000    1.521029        0\n",
      "23         Early-bird   3764.940414    0.900000        2\n",
      "24         Early-bird   3191.065822    0.900000        0\n",
      "25   Big-Screen-lover   4165.700000    2.128362        2\n",
      "26   Big-Screen-lover   3137.800000    1.725892        0\n",
      "27         Early-bird   3179.708359    1.100000        0\n",
      "28       Sleeping-dog   3334.244233    3.273196        0\n",
      "29   Big-Screen-lover   3732.900000    2.011303        2\n",
      "..                ...           ...         ...      ...\n",
      "120      Sleeping-dog   3234.465609    2.606419        0\n",
      "121      Sleeping-dog   3313.905655    2.448368        0\n",
      "122      Sleeping-dog   3394.152840    2.185742        0\n",
      "123      Sleeping-dog   3902.329790    3.260149        2\n",
      "124      Sleeping-dog   3149.259875    2.410823        0\n",
      "125        Early-bird   2605.631083    0.900000        1\n",
      "126        Early-bird   3527.701867    0.900000        0\n",
      "127  Big-Screen-lover   3462.400000    1.922932        0\n",
      "128      Sleeping-dog   3527.360507    2.136971        0\n",
      "129  Big-Screen-lover   4003.400000    2.519623        2\n",
      "130        Early-bird   4296.873743    1.100000        2\n",
      "131        Early-bird   2411.008838    1.000000        1\n",
      "132        Early-bird   3402.729703    0.900000        0\n",
      "133        Early-bird   3480.455474    0.900000        0\n",
      "134  Big-Screen-lover   3949.300000    1.815666        2\n",
      "135        Early-bird   2947.543982    1.100000        1\n",
      "136      Sleeping-dog   3481.314549    2.528063        0\n",
      "137  Big-Screen-lover   3516.500000    2.646259        0\n",
      "138      Sleeping-dog   3486.085831    2.835355        0\n",
      "139  Big-Screen-lover   3408.300000    2.131432        0\n",
      "140      Sleeping-dog   2976.211190    2.199677        1\n",
      "141  Big-Screen-lover   3408.300000    2.084005        0\n",
      "142        Early-bird   3259.018704    0.900000        0\n",
      "143        Early-bird   3498.896985    0.900000        0\n",
      "144  Big-Screen-lover   3029.600000    2.093035        1\n",
      "145  Big-Screen-lover   3678.800000    2.463670        2\n",
      "146        Early-bird   3662.437527    0.900000        2\n",
      "147  Big-Screen-lover   3516.500000    2.371301        0\n",
      "148  Big-Screen-lover   3300.100000    1.704942        0\n",
      "149        Early-bird   3326.526183    1.200000        0\n",
      "\n",
      "[150 rows x 4 columns]\n"
     ]
    },
    {
     "data": {
      "text/plain": [
       "<matplotlib.collections.PathCollection at 0x2356f3b5048>"
      ]
     },
     "execution_count": 14,
     "metadata": {},
     "output_type": "execute_result"
    },
    {
     "data": {
      "image/png": "[encoded data removed]",
      "text/plain": [
       "<matplotlib.figure.Figure at 0x2356f36fac8>"
      ]
     },
     "metadata": {},
     "output_type": "display_data"
    }
   ],
   "source": [
    "#cncatenate labels to df as a new column / column binding\n",
    "r = pd.concat([label, features, predict], axis = 1)\n",
    "print(r)\n",
    "\n",
    "plt.scatter(r['AVERAGEPRICE'],r[\"PRODUCTAGE\"], c=r[\"PREDICT\"], alpha=0.7)"
   ]
  }
 ],
 "metadata": {
  "kernelspec": {
   "display_name": "Python 3",
   "language": "python",
   "name": "python3"
  },
  "language_info": {
   "codemirror_mode": {
    "name": "ipython",
    "version": 3
   },
   "file_extension": ".py",
   "mimetype": "text/x-python",
   "name": "python",
   "nbconvert_exporter": "python",
   "pygments_lexer": "ipython3",
   "version": "3.6.3"
  }
 },
 "nbformat": 4,
 "nbformat_minor": 2
}
