{
 "cells": [
  {
   "cell_type": "markdown",
   "metadata": {},
   "source": [
    "### 4. Scikit-learn"
   ]
  },
  {
   "cell_type": "markdown",
   "metadata": {},
   "source": [
    "### 4-3. K-Means Clustering"
   ]
  },
  {
   "cell_type": "code",
   "execution_count": 2,
   "metadata": {
    "scrolled": true
   },
   "outputs": [
    {
     "name": "stdout",
     "output_type": "stream",
     "text": [
      "name type\n",
      "<class 'pandas.core.frame.DataFrame'>\n",
      "features type\n",
      "<class 'pandas.core.frame.DataFrame'>\n",
      "      NAME   SW   DB  AND  PREDICT\n",
      "0   ST0001   95   30    0        1\n",
      "1   ST0002   50   50    0        1\n",
      "2   ST0003   15   30   15        1\n",
      "3   ST0004   90   50   20        1\n",
      "4   ST0005   75   20   20        1\n",
      "5   ST0006  100   80   30        0\n",
      "6   ST0007   15   10   30        1\n",
      "7   ST0008  100  100   33        0\n",
      "8   ST0009   65   60   35        1\n",
      "9   ST0010   90   20   38        1\n",
      "10  ST0011  100   70   43        0\n",
      "11  ST0012   90   45   45        1\n",
      "12  ST0013   90   60   47        1\n",
      "13  ST0014  100  100   48        0\n",
      "14  ST0015   75   80   49        0\n",
      "15  ST0016   90  100   50        0\n",
      "16  ST0017  100   30   50        1\n",
      "17  ST0018  100  100   58        0\n",
      "18  ST0019  100  100   60        0\n",
      "19  ST0020   90   80   69        0\n",
      "20  ST0021  100  100   75        0\n",
      "21  ST0022  100  100   95        0\n",
      "22  ST0023  100  100   96        0\n",
      "23  ST0024  100  100  100        0\n",
      "24  ST0025   90  100  100        0\n",
      "25  ST0026  100  100  100        0\n"
     ]
    },
    {
     "data": {
      "text/plain": [
       "<matplotlib.collections.PathCollection at 0x2356ca49f60>"
      ]
     },
     "execution_count": 2,
     "metadata": {},
     "output_type": "execute_result"
    },
    {
     "data": {
      "image/png": "[encoded data removed]",
      "text/plain": [
       "<matplotlib.figure.Figure at 0x2356cb7e470>"
      ]
     },
     "metadata": {},
     "output_type": "display_data"
    }
   ],
   "source": [
    "import pandas as pd\n",
    "from sklearn.cluster import KMeans\n",
    "import matplotlib.pyplot as plt\n",
    "\n",
    "# Only needed if you want to display your plots inline if using Notebook\n",
    "# change inline to auto if you have Spyder installed\n",
    "%matplotlib inline\n",
    "\n",
    "#CSV 파일을 읽어 DataFrame 변수에 저장하기\n",
    "studentData = pd.read_csv(\"../dataset/student_middle.csv\")\n",
    "\n",
    "#<class 'pandas.core.frame.DataFrame'>\n",
    "name = studentData[[\"NAME\"]]\n",
    "print(\"name type\")\n",
    "print(type(name))\n",
    "\n",
    "#<class 'pandas.core.frame.DataFrame'>\n",
    "features = studentData[[\"SW\",\"DB\",\"AND\"]]\n",
    "print(\"features type\")\n",
    "print(type(features))\n",
    "\n",
    "#Create model and prediction\n",
    "model = KMeans(n_clusters=2, algorithm=\"auto\")\n",
    "model.fit(features)\n",
    "predict = pd.DataFrame(model.predict(features))\n",
    "predict.columns=[\"PREDICT\"]\n",
    "\n",
    "#cncatenate labels to df as a new column / column binding\n",
    "r = pd.concat([name, features, predict], axis = 1)\n",
    "print(r)\n",
    "\n",
    "plt.scatter(r['DB'],r[\"AND\"], c=r[\"PREDICT\"], alpha=0.7)"
   ]
  },
  {
   "cell_type": "markdown",
   "metadata": {},
   "source": [
    "### 실습: customerdata.csv 파일을 활용하여 kmean 구동  averageprice, devicecount를 가지고 3가지로 분류하세요"
   ]
  }
 ],
 "metadata": {
  "kernelspec": {
   "display_name": "Python 3",
   "language": "python",
   "name": "python3"
  },
  "language_info": {
   "codemirror_mode": {
    "name": "ipython",
    "version": 3
   },
   "file_extension": ".py",
   "mimetype": "text/x-python",
   "name": "python",
   "nbconvert_exporter": "python",
   "pygments_lexer": "ipython3",
   "version": "3.6.4"
  }
 },
 "nbformat": 4,
 "nbformat_minor": 2
}
